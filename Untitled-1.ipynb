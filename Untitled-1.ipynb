{
 "cells": [
  {
   "cell_type": "code",
   "execution_count": 3,
   "metadata": {},
   "outputs": [
    {
     "name": "stdout",
     "output_type": "stream",
     "text": [
      "Predicted Scores: [85.34 67.87]\n"
     ]
    }
   ],
   "source": [
    "from sklearn.ensemble import RandomForestRegressor\n",
    "from sklearn.model_selection import train_test_split\n",
    "import pandas as pd\n",
    "\n",
    "# Simulated training data (you'd use your real labeled dataset)\n",
    "train_data = pd.DataFrame({\n",
    "    'Feedback': [4.5, 3.2, 4.0, 2.5],\n",
    "    'Attendance': [95, 85, 90, 70],\n",
    "    'Result': [85, 60, 80, 50],\n",
    "    'Extra': [4, 2, 3, 1],\n",
    "    'Final Score': [89, 68, 80, 60]  # Admin-given scores\n",
    "})\n",
    "\n",
    "X = train_data[['Feedback', 'Attendance', 'Result', 'Extra']]\n",
    "y = train_data['Final Score']\n",
    "\n",
    "model = RandomForestRegressor()\n",
    "model.fit(X, y)\n",
    "\n",
    "# Now use this model on new data\n",
    "new_data = pd.DataFrame({\n",
    "    'Feedback': [4.5, 3.2],\n",
    "    'Attendance': [95, 85],\n",
    "    'Result': [85, 60],\n",
    "    'Extra': [4, 2]\n",
    "})\n",
    "\n",
    "predictions = model.predict(new_data)\n",
    "print(\"Predicted Scores:\", predictions)\n"
   ]
  }
 ],
 "metadata": {
  "kernelspec": {
   "display_name": "Python 3",
   "language": "python",
   "name": "python3"
  },
  "language_info": {
   "codemirror_mode": {
    "name": "ipython",
    "version": 3
   },
   "file_extension": ".py",
   "mimetype": "text/x-python",
   "name": "python",
   "nbconvert_exporter": "python",
   "pygments_lexer": "ipython3",
   "version": "3.12.8"
  }
 },
 "nbformat": 4,
 "nbformat_minor": 2
}
